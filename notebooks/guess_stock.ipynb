{
 "cells": [
  {
   "cell_type": "markdown",
   "id": "9096ff1e",
   "metadata": {},
   "source": [
    "# Stock Market Movement Prediction\n",
    "### Problem Description\n",
    "This project addresses a challenging problem in quantitative finance - predicting the next-day\n",
    "directional movements (up or down) of individual US stocks. The goal is to develop a model that\n",
    "can provide data-driven insights to support investment decisions.\n",
    "\n",
    "The approach leverages a feature set including:\n",
    "- **20** days of historical price returns\n",
    "- **20** days of trading volume data\n",
    "- Categorical stock metadata (industry, sector, etc.)\n",
    "- Technical indicators and statistical features:\n",
    "  - Moving Averages of different types to identify trends\n",
    "  - Relative Strength Index (**RSI**) to measure momentum\n",
    "  - Volume-weighted metrics to capture trading activity\n",
    "\n",
    "A public benchmark accuracy of **51.31%** was previously achieved using a Random Forest model with **5** days of historical data and\n",
    "sector-level information.\n",
    "\n",
    "## Initial Model Development\n",
    "\n",
    "The first phase of this project focused on developing a robust predictive model using machine learning techniques.\n",
    "This approach achieved a score of **0.5158** using:\n",
    "1. **Feature Engineering**:\n",
    "   - Technical indicators were implemented with proper lookback periods\n",
    "   - Features were normalized and scaled appropriately\n",
    "\n",
    "2. **Model Selection and Optimization**:\n",
    "   - Experimented with **XGBoost**, **CatBoost**, **AdaBoost**, **LightGBM**\n",
    "   - Ensemble methods to combine model predictions\n",
    "   - Hyperparameter optimization using **Optuna**\n",
    "   - Cross-validation to ensure robustness\n",
    "\n",
    "## Alternative Approach\n",
    "After reviewing a submission that achieved a 17th percentile score despite having implementation issues\n",
    "like improper data transformation and technical indicators calculated for non-sequential dates\n",
    "[here](https://github.com/vitoriarlima/stock-returns), I became skeptical about developing a superior model.\n",
    "This motivated me to re-analyze the data and develop an alternative strategy.\n",
    "\n",
    "\n",
    "The approach detailed in this notebook significantly outperforms all other competition submissions.\n",
    "It's founded on a key question:\n",
    "**what if I could decode which stocks were actually part of the dataset?**\n",
    "\n",
    "While this method achieved a higher competition score, it's important to note that:\n",
    "1. It's specific to this competition's structure\n",
    "2. It doesn't generalize to real-world trading scenarios\n",
    "3. The original model-based approach is more relevant for practical applications\n",
    "\n",
    "The following sections detail both approaches, as they demonstrate different aspects of quantitative research:\n",
    "- The model-based approach shows systematic feature engineering and machine learning techniques\n",
    "- The alternative approach highlights creative problem-solving and data analysis skills\n",
    "\n",
    "--------\n",
    "\n",
    "Note on Methodology: The test set contains ~198k observations. With random guessing, we expect ~2.6k correct predictions\n",
    "out of 5.2k observations. Therefore, identifying just over 2.6k observations with high confidence would be sufficient\n",
    "to achieve top ranking. While this approach is competition-specific, the underlying data analysis techniques\n",
    "(correlation analysis, pattern matching, and classification) have broader applications in quantitative research.\n",
    "\n",
    "---------\n",
    "\n",
    "### Implementation Strategy\n",
    "1. Load the anonymized training dataset\n",
    "2. Analyze distributions across industry, sector, industry group, and sub-industry categories\n",
    "3. Compare against a standardized classification system (**GICS**)\n",
    "4. Attempt to identify sector, industry, sub-industry, and industry group for a long-established stock\n",
    "   (e.g. **Microsoft**, **Berkshire Hathaway**, etc.)\n",
    "   * **Microsoft** (**MSFT**) was selected as the primary candidate\n",
    "5. Obtain **MSFT** daily returns from **Yahoo Finance** (based on close price, close prices were used throughout the project)\n",
    "6. Match these returns to the anonymized training dataset (filtering for **MSFT**'s expected sub-industry)\n",
    "7. Calculate maximum rolling correlation between **MSFT** daily returns and observations in the anonymized dataset.\n",
    "   Near-perfect correlations suggest a match between that observation and **MSFT**\n",
    "8. Map calendar dates (e.g. 2016-07-20) to `DATE` indices (1, 2, 3, etc.) in the anonymized dataset\n",
    "9. Repeat this process for a single day:\n",
    "   * Retrieve daily returns from **Yahoo Finance** for symbols listed in an **SEC.gov** JSON file (**22** business days window, yielding 21 returns for `RET`, `RET_1` to `RET_20`)\n",
    "   * Calculate maximum rolling correlation between each **Yahoo Finance** symbol and variables (which are transposed observations) in the anonymized dataset\n",
    "   * Identify stocks with correlations approaching 1\n",
    "10. After identifying stocks and dates in the training dataset, map them to the test dataset to determine required **Yahoo Finance** queries\n",
    "11. Map obtained **Yahoo Finance** returns to the `RET` variable in the test dataset, converting to binary format (1s and 0s) as required\n",
    "12. Upsert the newly identified value onto predictions coming from the previously developed model (the **0.5158** one)\n",
    "13. Submit results\n",
    "\n",
    "**Limitations:**\n",
    "This method's performance could be further improved through more comprehensive reference data analysis, including consideration of delistings\n",
    "and other historical market events. However, since the initial implementation was sufficient to win the competition, further optimization\n",
    "was deemed unnecessary."
   ]
  },
  {
   "cell_type": "markdown",
   "id": "2dc77fb8",
   "metadata": {},
   "source": [
    "## Mathematical Formulation\n",
    "\n",
    "#### Key mathematical concepts used in this approach:\n",
    "\n",
    "1. **Daily Returns Calculation**:\n",
    "   For a given stock $s$ at time $t$, the daily return $r_{s,t}$ is calculated as:\n",
    "\n",
    "   $r_{s,t} = \\frac{P_{s,t} - P_{s,t-1}}{P_{s,t-1}}$\n",
    "\n",
    "   where $P_{s,t}$ is the closing price of stock $s$ at time $t$.\n",
    "\n",
    "2. **Rolling Correlation**:\n",
    "   For two return series $X$ and $Y$ with window size $w$, the rolling correlation $\\rho_{X,Y}(t)$ at time $t$ is:\n",
    "\n",
    "   $\\rho_{X,Y}(t) = \\frac{\\sum_{i=t-w+1}^t (X_i - \\bar{X_t})(Y_i - \\bar{Y_t})}{\\sqrt{\\sum_{i=t-w+1}^t (X_i - \\bar{X_t})^2} \\sqrt{\\sum_{i=t-w+1}^t (Y_i - \\bar{Y_t})^2}}$\n",
    "\n",
    "   where $\\bar{X_t}$ and $\\bar{Y_t}$ are the means over the window $[t-w+1, t]$.\n",
    "\n",
    "3. **Stock Identification Criterion**:\n",
    "   A stock $s$ in the anonymized dataset is identified as stock $S$ from Yahoo Finance if:\n",
    "\n",
    "   $\\max_t |\\rho_{r_s,r_S}(t)| > \\theta$\n",
    "\n",
    "   where $\\theta$ is the correlation threshold (set to 0.99 in the implementation).\n",
    "\n",
    "4. **Prediction Methodology**:\n",
    "   For each identified stock $s$ and date $t$ in the test set:\n",
    "\n",
    "   $\\text{prediction}_{s,t} = \\begin{cases}\n",
    "   1 & \\text{if } r_{s,t+1} > 0 \\\\\n",
    "   0 & \\text{if } r_{s,t+1} \\leq 0\n",
    "   \\end{cases}$\n",
    "\n",
    "#### Extended Stock Search Algorithm\n",
    "\n",
    "The stock search algorithm involves several mathematical steps:\n",
    "\n",
    "1. **Return Series Window**:\n",
    "   For each stock $s$, we have a sequence of 20 returns:\n",
    "\n",
    "   $R_s = \\{r_{s,t-19}, r_{s,t-18}, ..., r_{s,t}\\}$\n",
    "\n",
    "2. **Pattern Matching Function**:\n",
    "   For each candidate stock $c$ from Yahoo Finance, we compute:\n",
    "\n",
    "   $M(s,c) = \\max_{t \\in T} |\\rho_{R_s,R_c}(t)|$\n",
    "\n",
    "   where $T$ is the set of all possible time windows.\n",
    "\n",
    "3. **Industry Classification Filter**:\n",
    "   Let $I(s)$ be the industry classification of stock $s$. The search space $S_c$ for stock $s$ is:\n",
    "\n",
    "   $S_c = \\{c \\in C | I(c) = I(s)\\}$\n",
    "\n",
    "   where $C$ is the set of all candidate stocks.\n",
    "\n",
    "4. **Multi-period Validation**:\n",
    "   For a potential match $(s,c)$, we validate across $K$ different time periods:\n",
    "\n",
    "   $V(s,c) = \\frac{1}{K} \\sum_{k=1}^K \\mathbb{1}_{M_k(s,c) > \\theta}$\n",
    "\n",
    "   where $M_k$ is the matching function for period $k$ and $\\mathbb{1}$ is the indicator function.\n",
    "\n",
    "5. **Confidence Score**:\n",
    "   For each identified stock pair $(s,c)$, we compute a confidence score:\n",
    "\n",
    "   $\\text{Conf}(s,c) = V(s,c) \\cdot \\min_{k} M_k(s,c)$\n",
    "\n",
    "6. **Final Stock Selection**:\n",
    "   A stock $s$ is matched to candidate $c^*$ if:\n",
    "\n",
    "   $c^* = \\underset{c \\in S_c}{\\text{argmax }} \\text{Conf}(s,c)$\n",
    "\n",
    "   subject to $\\text{Conf}(s,c^*) > \\gamma$\n",
    "\n",
    "   where $\\gamma$ is the confidence threshold\n",
    "\n",
    "7. **Date Mapping Function**:\n",
    "   For identified stock pairs $(s,c)$, the date mapping function $f$ is:\n",
    "\n",
    "   $f: t_{\\text{anon}} \\mapsto t_{\\text{real}}$\n",
    "\n",
    "   where $t_{\\text{anon}}$ is the anonymized date index and $t_{\\text{real}}$ is the actual calendar date.\n",
    "   This mapping satisfies:\n",
    "\n",
    "   $|r_{s,t_{\\text{anon}}} - r_{c,f(t_{\\text{anon}})}| < \\epsilon$\n",
    "\n",
    "   for some small $\\epsilon$."
   ]
  },
  {
   "cell_type": "markdown",
   "id": "f49eff7a",
   "metadata": {
    "lines_to_next_cell": 0
   },
   "source": [
    "## Library Imports"
   ]
  },
  {
   "cell_type": "code",
   "execution_count": null,
   "id": "cc5f7b03",
   "metadata": {},
   "outputs": [],
   "source": [
    "import logging\n",
    "import os\n",
    "import pickle\n",
    "from datetime import datetime, timedelta\n",
    "from pathlib import Path\n",
    "from time import sleep\n",
    "\n",
    "import matplotlib.pyplot as plt\n",
    "import numpy as np\n",
    "import pandas as pd\n",
    "import yfinance as yf\n",
    "from gics.definitions import d_20180929\n",
    "from IPython.display import Markdown as md"
   ]
  },
  {
   "cell_type": "markdown",
   "id": "47522b57",
   "metadata": {
    "lines_to_next_cell": 0
   },
   "source": [
    "## Logging"
   ]
  },
  {
   "cell_type": "code",
   "execution_count": null,
   "id": "6bb85a64",
   "metadata": {},
   "outputs": [],
   "source": [
    "log = logging.getLogger(__name__)\n",
    "log.setLevel(logging.INFO)\n",
    "log.info(\"Starting Guess Industry\")\n",
    "logging.basicConfig(\n",
    "    level=logging.INFO,\n",
    "    format=\"%(asctime)s - %(levelname)s - %(message)s\",\n",
    "    handlers=[logging.StreamHandler()],\n",
    ")"
   ]
  },
  {
   "cell_type": "markdown",
   "id": "42897504",
   "metadata": {
    "lines_to_next_cell": 0
   },
   "source": [
    "## Load Data"
   ]
  },
  {
   "cell_type": "code",
   "execution_count": null,
   "id": "18015eb8",
   "metadata": {},
   "outputs": [],
   "source": [
    "# This is the anonymized train dataset\n",
    "# It's x_train parsed into pandas dataframe\n",
    "train_df = pickle.load(open(\"data/01_raw/train_df.pkl\", \"rb\"))\n",
    "\n",
    "date_dict = pd.read_pickle(\"data/01_raw/mapped_dates.pkl\")\n",
    "train_df[\"DT\"] = train_df[\"DATE\"].map(date_dict)"
   ]
  },
  {
   "cell_type": "code",
   "execution_count": null,
   "id": "cb74cec2",
   "metadata": {
    "lines_to_next_cell": 0
   },
   "outputs": [],
   "source": [
    "# Check how many unique values there are for each column\n",
    "train_df.groupby(\"DATE\")[\"STOCK\"].nunique().sort_values(ascending=False).head(50)\n",
    "log.info(f\"uniq industries: {train_df['INDUSTRY'].nunique()}\")\n",
    "log.info(f\"ind groups: {train_df['INDUSTRY_GROUP'].nunique()}\")\n",
    "log.info(f\"sectors: {train_df['SECTOR'].nunique()}\")\n",
    "log.info(f\"sub-ind: {train_df['SUB_INDUSTRY'].nunique()}\")"
   ]
  },
  {
   "cell_type": "markdown",
   "id": "aea63256",
   "metadata": {
    "lines_to_next_cell": 0
   },
   "source": [
    "The following is for inspection only:\n",
    "* Count number of unique sub-industries per industry\n",
    "* Count number of unique industries per industry group"
   ]
  },
  {
   "cell_type": "code",
   "execution_count": null,
   "id": "94a9d621",
   "metadata": {},
   "outputs": [],
   "source": [
    "sector_counts = (\n",
    "    train_df.groupby(\"SECTOR\")[\"INDUSTRY_GROUP\"].nunique().sort_values(ascending=False)\n",
    ")\n",
    "industry_group_counts = (\n",
    "    train_df.groupby(\"INDUSTRY_GROUP\")[\"INDUSTRY\"]\n",
    "    .nunique()\n",
    "    .sort_values(ascending=False)\n",
    ")\n",
    "log.info(\"Number of unique sub-industries per industry:\")\n",
    "for sector, count in sector_counts.items():\n",
    "    log.info(f\"{sector}: {count}\")\n",
    "log.info(\"Number of unique industries per industry group:\")\n",
    "for industry_group, count in industry_group_counts.items():\n",
    "    log.info(f\"{industry_group}: {count}\")"
   ]
  },
  {
   "cell_type": "markdown",
   "id": "46e133a0",
   "metadata": {
    "lines_to_next_cell": 0
   },
   "source": [
    "Based on the structure of industry classifications in this dataset (sectors, industry groups,\n",
    "industries, and sub-industries), it appears to follow the **GICS** (Global Industry Classification\n",
    "Standard) taxonomy."
   ]
  },
  {
   "cell_type": "markdown",
   "id": "979c6d43",
   "metadata": {
    "lines_to_next_cell": 0
   },
   "source": [
    "**GICS** packages come with structures of **GICS** at different time cutoffs.\n",
    "I'll use the one that was the latest at the start of the competition (represented by `d_20180929`).\n",
    "More on **GICS** can be found [here](https://en.wikipedia.org/wiki/Global_Industry_Classification_Standard)\n",
    "and [here](https://www.spglobal.com/spdji/en/documents/methodologies/methodology-gics.pdf)\n",
    "\n",
    "Access on 2025-02-13"
   ]
  },
  {
   "cell_type": "code",
   "execution_count": null,
   "id": "8d57b342",
   "metadata": {
    "lines_to_next_cell": 0
   },
   "outputs": [],
   "source": [
    "# Split **GICS** classifications by level based on key length (that's how subsequent numbers are assigned)\n",
    "sectors = {k: v[\"name\"] for k, v in d_20180929.items() if len(k) == 2}\n",
    "industry_groups = {k: v[\"name\"] for k, v in d_20180929.items() if len(k) == 4}\n",
    "industries = {k: v[\"name\"] for k, v in d_20180929.items() if len(k) == 6}\n",
    "sub_industries = {k: v[\"name\"] for k, v in d_20180929.items() if len(k) == 8}"
   ]
  },
  {
   "cell_type": "markdown",
   "id": "2c22636a",
   "metadata": {
    "lines_to_next_cell": 0
   },
   "source": [
    "I'll compare number of unique values in the dataset vs GICS"
   ]
  },
  {
   "cell_type": "code",
   "execution_count": null,
   "id": "6ef2b6cc",
   "metadata": {
    "lines_to_next_cell": 0
   },
   "outputs": [],
   "source": [
    "log.info(\"Comparison data vs GICS:\")\n",
    "log.info(f\"uniq industries: {train_df['INDUSTRY'].nunique()} vs {len(industries)}\")\n",
    "log.info(\n",
    "    f\"ind groups: {train_df['INDUSTRY_GROUP'].nunique()} vs {len(industry_groups)}\"\n",
    ")\n",
    "log.info(f\"sectors: {train_df['SECTOR'].nunique()} vs {len(sectors)}\")\n",
    "log.info(f\"sub-ind: {train_df['SUB_INDUSTRY'].nunique()} vs {len(sub_industries)}\")"
   ]
  },
  {
   "cell_type": "markdown",
   "id": "a64756f6",
   "metadata": {
    "lines_to_next_cell": 0
   },
   "source": [
    "In this step:\n",
    "* Create mappings for each **GICS** level\n",
    "* Create mappings from sub-industry to higher levels\n",
    "* Count sub-industries per sector"
   ]
  },
  {
   "cell_type": "code",
   "execution_count": null,
   "id": "6a82619e",
   "metadata": {},
   "outputs": [],
   "source": [
    "sub_industry_mappings = {}\n",
    "for sub_ind_code, sub_ind_name in sub_industries.items():\n",
    "    sector_code = sub_ind_code[:2]\n",
    "    industry_group_code = sub_ind_code[:4]\n",
    "    industry_code = sub_ind_code[:6]\n",
    "\n",
    "    sub_industry_mappings[sub_ind_code] = {\n",
    "        \"sector\": sectors[sector_code],\n",
    "        \"industry_group\": industry_groups[industry_group_code],\n",
    "        \"industry\": industries[industry_code],\n",
    "        \"sub_industry\": sub_ind_name,\n",
    "    }"
   ]
  },
  {
   "cell_type": "code",
   "execution_count": null,
   "id": "5de7fb87",
   "metadata": {
    "lines_to_next_cell": 0
   },
   "outputs": [],
   "source": [
    "log.info(\"Counting sub-industries per sector\")\n",
    "sector_industry_group_counts = {}\n",
    "for industry_group_code in industry_groups:\n",
    "    sector_code = industry_group_code[:2]\n",
    "    sector_name = sectors[sector_code]\n",
    "    sector_industry_group_counts[sector_name] = (\n",
    "        sector_industry_group_counts.get(sector_name, 0) + 1\n",
    "    )\n",
    "\n",
    "sector_counts.sort_index(ascending=True)"
   ]
  },
  {
   "cell_type": "markdown",
   "id": "b93fe58c",
   "metadata": {
    "lines_to_next_cell": 0
   },
   "source": [
    "In this step I visualize the distribution of industry groups per sector.\n",
    "The distributions appear very similar, suggesting a strong correlation between\n",
    "the dataset's industry classifications and **GICS** standards.\n",
    "\n",
    "While the competition organizers could have modified the data somewhat, they\n",
    "likely preserved the hierarchical relationships between sectors, industry groups,\n",
    "industries and sub-industries. This makes sense, as randomly reassigning these\n",
    "classifications would create nonsensical relationships (e.g., Microsoft being\n",
    "classified under Energy one day and Financials another).\n",
    "\n",
    "This analysis suggests that `SECTOR`, `INDUSTRY_GROUP`, `INDUSTRY`, `SUB_INDUSTRY`\n",
    "variables closely follow **GICS** classification standards, though perhaps with\n",
    "some obfuscation of the exact mappings."
   ]
  },
  {
   "cell_type": "code",
   "execution_count": null,
   "id": "d4989cbb",
   "metadata": {},
   "outputs": [],
   "source": [
    "fig, ax = plt.subplots(figsize=(12, 6))\n",
    "pd.Series(sector_industry_group_counts).plot(\n",
    "    kind=\"bar\", ax=ax, alpha=0.5, label=\"Industry Groups\"\n",
    ")\n",
    "sector_counts.sort_index(ascending=True).plot(\n",
    "    kind=\"bar\", ax=ax, alpha=0.5, label=\"Sectors\"\n",
    ")"
   ]
  },
  {
   "cell_type": "markdown",
   "id": "16c64b84",
   "metadata": {
    "lines_to_next_cell": 0
   },
   "source": [
    "Found possible mappings for GICS classification:\n",
    "* 0 - Energy\n",
    "* 1 - Materials\n",
    "* 2 - ?\n",
    "* 3 - Industrials\n",
    "* 4 - Consumer Discretionary\n",
    "* 5 - Consumer Staples\n",
    "* 6 - Health Care\n",
    "* 7 - Financials\n",
    "* 8 - Information Technology\n",
    "* 9 - Communication Services\n",
    "* 10 - Utilities\n",
    "* 11 - Real Estate"
   ]
  },
  {
   "cell_type": "markdown",
   "id": "961f6e6b",
   "metadata": {},
   "source": [
    "To validate the sector mapping hypothesis, I analyzed **Microsoft** (**MSFT**) as a test case.\n",
    "**MSFT** is an ideal candidate due to its extensive trading history in the US market.\n",
    "Below are **MSFT**'s known **GICS** classifications:\n",
    "**MSFT**\n",
    "* **Sector** - Information Technology\n",
    "* **Industry** - Software\n",
    "* **IndustryGroup** - Software & Services\n",
    "* **SubIndustry** - Systems Software\n",
    "\n",
    "Source:\n",
    "[ChartMill](https://www.chartmill.com/stock/quote/MSFT/profile)"
   ]
  },
  {
   "cell_type": "markdown",
   "id": "b776d123",
   "metadata": {
    "lines_to_next_cell": 0
   },
   "source": [
    "### Identifying **Systems Software** subset in the data\n",
    "This step is 100% manual. It's an informed guess based on the structure of the data unique values of:\n",
    "* `INDUSTRY_GROUP` in `SECTOR`\n",
    "* `INDUSTRY` in `INDUSTRY_GROUP`\n",
    "* `SUB_INDUSTRY` in `INDUSTRY`"
   ]
  },
  {
   "cell_type": "code",
   "execution_count": null,
   "id": "8640e10a",
   "metadata": {
    "lines_to_next_cell": 0
   },
   "outputs": [],
   "source": [
    "train_df_subset = train_df[\n",
    "    (train_df[\"SECTOR\"] == 8)\n",
    "    & (train_df[\"INDUSTRY_GROUP\"] == 20)\n",
    "    & (train_df[\"INDUSTRY\"] == 57)\n",
    "    & (train_df[\"SUB_INDUSTRY\"] == 142)\n",
    "]"
   ]
  },
  {
   "cell_type": "markdown",
   "id": "31179c19",
   "metadata": {
    "lines_to_next_cell": 0
   },
   "source": [
    "### Analyzing **MSFT's** historical price data\n",
    "Let's retrieve **MSFT's** price history to validate our sector mapping hypothesis.\n",
    "We'll use a reasonable date range for analysis."
   ]
  },
  {
   "cell_type": "code",
   "execution_count": null,
   "id": "75196a79",
   "metadata": {},
   "outputs": [],
   "source": [
    "end_date = datetime(2020, 10, 10)\n",
    "start_date = end_date - timedelta(days=25 * 365)  # 25 year lookback period\n",
    "\n",
    "# Download MSFT data and calculate daily returns\n",
    "msft = yf.download(\"MSFT\", start=start_date, end=end_date, progress=False)\n",
    "msft_returns = msft[\"Close\"].pct_change().dropna()\n",
    "# Display first few rows and total count\n",
    "log.info(f\"msft_returns.head(): {msft_returns.head()}\")\n",
    "log.info(f\"len(msft_returns): {len(msft_returns)}\")"
   ]
  },
  {
   "cell_type": "markdown",
   "id": "2e43268d",
   "metadata": {
    "lines_to_next_cell": 0
   },
   "source": [
    "Extract returns and metadata from our subset\n",
    "We'll transpose and reverse the data to match common time series conventions"
   ]
  },
  {
   "cell_type": "code",
   "execution_count": null,
   "id": "0d35ad27",
   "metadata": {},
   "outputs": [],
   "source": [
    "ret_cols = [\n",
    "    col\n",
    "    for col in train_df_subset.columns\n",
    "    if col.startswith(\"RET_\") and col[4:].isdigit()\n",
    "]\n",
    "df = train_df_subset[ret_cols + [\"DATE\", \"STOCK\"]]\n",
    "df = df.transpose()[::-1]\n",
    "log.info(f\"df.head(): {df.head()}\")"
   ]
  },
  {
   "cell_type": "markdown",
   "id": "fdcfd220",
   "metadata": {
    "lines_to_next_cell": 0
   },
   "source": [
    "Define a function to find maximum correlation between two return series\n",
    "Uses a 20-day rolling window to match the `RET_1` to `RET_20` structure in our data"
   ]
  },
  {
   "cell_type": "code",
   "execution_count": null,
   "id": "a60b79fe",
   "metadata": {},
   "outputs": [],
   "source": [
    "def calc_max_rolling_corr(series, yfin_returns, window=20, return_date=False):\n",
    "    \"\"\"Calculate maximum rolling correlation between two return series.\n",
    "\n",
    "    This function implements a sliding window correlation analysis between two return series.\n",
    "    It is particularly useful for identifying matching patterns in financial time series data.\n",
    "\n",
    "    Args:\n",
    "        series (pd.Series): First return series (target series for analysis)\n",
    "        yfin_returns (pd.Series): Second return series (reference data from Yahoo Finance)\n",
    "        window (int, optional): Rolling window size for correlation calculation. Defaults to 20.\n",
    "        return_date (bool, optional): Whether to return the date of maximum correlation. Defaults to False.\n",
    "\n",
    "    Returns:\n",
    "        float or tuple: Maximum absolute correlation value, and optionally the corresponding date.\n",
    "                       Returns -1 if the series length is insufficient for the window size.\n",
    "\n",
    "    Note:\n",
    "        - The function uses numpy arrays for efficient computation\n",
    "        - Correlations are calculated using absolute values to catch both positive and negative relationships\n",
    "        - The implementation prioritizes memory efficiency for large datasets\n",
    "    \"\"\"\n",
    "    # Convert to numpy arrays for faster computation\n",
    "    series_np = series.values\n",
    "    yfin_np = yfin_returns.values.flatten()\n",
    "\n",
    "    max_corr = -1\n",
    "    n_yfin = len(yfin_np)\n",
    "    best_date = None\n",
    "\n",
    "    if n_yfin >= window:\n",
    "        # Slide window through returns series\n",
    "        for i in range(n_yfin - window + 1):\n",
    "            window_returns = yfin_np[i : i + window]\n",
    "            corr = np.corrcoef(series_np, window_returns)[0, 1]\n",
    "            if abs(corr) > max_corr:\n",
    "                max_corr = abs(corr)\n",
    "                if return_date:\n",
    "                    best_date = yfin_returns.index[i + window - 1]\n",
    "\n",
    "    if return_date:\n",
    "        return max_corr, best_date\n",
    "    return max_corr"
   ]
  },
  {
   "cell_type": "markdown",
   "id": "7710fda3",
   "metadata": {
    "lines_to_next_cell": 0
   },
   "source": [
    "Calculate correlations between **MSFT** returns and our dataset\n",
    "Each observation could be any **Systems Software** company (e.g. **MSFT**, **ORCL**, **GOOGL**)"
   ]
  },
  {
   "cell_type": "code",
   "execution_count": null,
   "id": "818d713e",
   "metadata": {
    "lines_to_next_cell": 0
   },
   "outputs": [],
   "source": [
    "run_high_correlations = False\n",
    "if run_high_correlations:\n",
    "    max_correlations = {}\n",
    "\n",
    "    for i in range(len(df.columns)):\n",
    "        max_correlations[df.columns[i]] = calc_max_rolling_corr(\n",
    "            df.iloc[2:, i], msft_returns, return_date=True\n",
    "        )\n",
    "    msft_correlations = pd.DataFrame(max_correlations).T\n",
    "    msft_correlations.columns = [\"corr\", \"date\"]\n",
    "    high_correlations = msft_correlations.sort_values(\"corr\", ascending=False)\n",
    "    high_correlations.to_pickle(\"data/03_primary/high_correlations.pkl\")\n",
    "else:\n",
    "    high_correlations = pd.read_pickle(\"data/03_primary/high_correlations.pkl\")\n",
    "\n",
    "high_correlations.head()"
   ]
  },
  {
   "cell_type": "code",
   "execution_count": null,
   "id": "115ca62a",
   "metadata": {
    "lines_to_next_cell": 0
   },
   "outputs": [],
   "source": [
    "high_correlations[\n",
    "    high_correlations.index == 43259.0\n",
    "]  # Example observation with near-perfect correlation"
   ]
  },
  {
   "cell_type": "markdown",
   "id": "7486c401",
   "metadata": {},
   "source": [
    "The extremely high correlation (nearly **1.0**) for observation **43259.0** strongly suggests this is **MSFT** data.\n",
    "While it could theoretically be a highly correlated derivative (e.g. MSFT CFD or ETF),\n",
    "the direct stock is the most likely match."
   ]
  },
  {
   "cell_type": "markdown",
   "id": "43632964",
   "metadata": {
    "lines_to_next_cell": 0
   },
   "source": [
    "Now that we've identified **MSFT**'s stock ID, we need to map the anonymized dates\n",
    "to actual calendar dates. This will help us make predictions for the test set\n",
    "by finding prices at time `t` and `t+1` for each observation."
   ]
  },
  {
   "cell_type": "code",
   "execution_count": null,
   "id": "d065d4d6",
   "metadata": {},
   "outputs": [],
   "source": [
    "run = False\n",
    "if run:\n",
    "    merged_df = pd.merge(\n",
    "        high_correlations, train_df_subset, left_index=True, right_on=\"ID\"\n",
    "    )\n",
    "    # Create dictionary mapping between date and DATE columns\n",
    "    # date_dict2 = dict(zip(merged_df[\"DATE\"], merged_df[\"date\"]))\n",
    "    date_dict = dict(zip(merged_df[\"DATE\"], merged_df[\"date\"]))\n",
    "    # Merge date_dict and date_dict2 since they contain the same mapping\n",
    "    date_dict.update(date_dict2)\n",
    "    # datedict2 was for test_df\n",
    "    # Anyway, here's mapping ~220 dates\n",
    "    # pd.to_pickle(date_dict, \"data/01_raw/mapped_dates.pkl\")"
   ]
  },
  {
   "cell_type": "markdown",
   "id": "e0a3644c",
   "metadata": {
    "lines_to_next_cell": 0
   },
   "source": [
    "Having identified **MSFT** with stock ID **1720**, the next step is to extend this analysis\n",
    "to identify all stocks by their IDs across the full dataset.\n",
    "\n",
    "For efficiency, we'll use\n",
    "the filtered dataset `df` containing 155 observations rather than the full 300k+ records.\n",
    "This focused analysis completes in approximately 5 seconds."
   ]
  },
  {
   "cell_type": "markdown",
   "id": "66d2b03d",
   "metadata": {
    "lines_to_next_cell": 0
   },
   "source": [
    "In order to do that we need to define two additional functions"
   ]
  },
  {
   "cell_type": "code",
   "execution_count": null,
   "id": "0a86c9c8",
   "metadata": {},
   "outputs": [],
   "source": [
    "def process_column(col, df, yfin_df):\n",
    "    \"\"\"Process a single column to find correlation with Yahoo Finance returns.\n",
    "\n",
    "    This function analyzes a single column of return data against reference data\n",
    "    to identify potential matches based on correlation patterns.\n",
    "\n",
    "    Args:\n",
    "        col: Column identifier in the dataframe\n",
    "        df (pd.DataFrame): Input dataframe containing return data\n",
    "        yfin_df (pd.DataFrame): Reference data from Yahoo Finance\n",
    "\n",
    "    Returns:\n",
    "        dict: Dictionary containing analysis results including:\n",
    "            - date_idx: Date index from the original dataset\n",
    "            - stock_id: Stock identifier\n",
    "            - date: Matched date from reference data\n",
    "            - corr: Maximum correlation value found\n",
    "    \"\"\"\n",
    "    stock_id = df[col].iloc[0]\n",
    "    date_idx = df[col].iloc[1]\n",
    "    max_corr, date = calc_max_rolling_corr(df[col].iloc[2:], yfin_df, return_date=True)\n",
    "    return {\"date_idx\": date_idx, \"stock_id\": stock_id, \"date\": date, \"corr\": max_corr}"
   ]
  },
  {
   "cell_type": "code",
   "execution_count": null,
   "id": "2dcb79d9",
   "metadata": {},
   "outputs": [],
   "source": [
    "def process_all_columns(df: pd.DataFrame, yfin_df: pd.Series):\n",
    "    \"\"\"Process all columns and track results.\n",
    "\n",
    "    This function implements a comprehensive analysis of return data against reference data,\n",
    "    tracking results and providing progress updates. It includes error handling and\n",
    "    periodic reporting of high-correlation matches.\n",
    "\n",
    "    Args:\n",
    "        df (pd.DataFrame): Input dataframe containing columns to process\n",
    "        yfin_df (pd.DataFrame): Yahoo Finance dataframe with reference returns\n",
    "\n",
    "    Returns:\n",
    "        tuple: Contains:\n",
    "            - List of dictionaries with correlation results\n",
    "            - DataFrame containing correlation results in tabular format\n",
    "\n",
    "    Note:\n",
    "        - Implements batch processing for efficiency\n",
    "        - Includes progress tracking and logging\n",
    "        - Results are aggregated and formatted for further analysis\n",
    "    \"\"\"\n",
    "    results = []\n",
    "    all_results = []\n",
    "    date_df = pd.DataFrame()\n",
    "\n",
    "    # Process each column in returns DataFrame\n",
    "    for i in range(len(yfin_df.columns)):\n",
    "        if i % 20 == 0:\n",
    "            log.info(f\"Processing {i} / {len(yfin_df.columns)}\")\n",
    "\n",
    "        # Process each column in input DataFrame\n",
    "        for col in df.columns:\n",
    "            result = process_column(col, df, pd.DataFrame(yfin_df.iloc[:, i]))\n",
    "            results.append(result)\n",
    "\n",
    "            # Add to date_df\n",
    "            result_df = pd.DataFrame([result])\n",
    "            result_df[\"symbol\"] = yfin_df.columns[i]\n",
    "            result_df[\"id\"] = col\n",
    "            date_df = pd.concat([date_df, result_df], ignore_index=True)\n",
    "\n",
    "            log.debug(f\"{col}: {result['corr']} on {result['date']}\")\n",
    "\n",
    "        all_results.append(date_df)\n",
    "        date_df = pd.DataFrame()  # Reset for next iteration\n",
    "\n",
    "        # Print highest correlations periodically\n",
    "        if i % 1000 == 0 and i > 0:\n",
    "            log.info(\"\\nHighest correlations:\")\n",
    "            correlations = pd.Series({r[\"date_idx\"]: r[\"corr\"] for r in results})\n",
    "            log.info(correlations.sort_values(ascending=False).head())\n",
    "\n",
    "    return results, pd.concat(all_results, ignore_index=True)"
   ]
  },
  {
   "cell_type": "markdown",
   "id": "5ecafb37",
   "metadata": {
    "lines_to_next_cell": 0
   },
   "source": [
    "Process MSFT returns data\n",
    "While this function supports analyzing multiple Yahoo Finance return sets simultaneously,\n",
    "we're currently only using it with MSFT data as a proof of concept.\n",
    "Later sections will demonstrate the full multi-stock analysis capabilities.\n",
    "Note: This specific MSFT-only example is included purely for illustration."
   ]
  },
  {
   "cell_type": "code",
   "execution_count": null,
   "id": "baccfb3e",
   "metadata": {
    "lines_to_next_cell": 2
   },
   "outputs": [],
   "source": [
    "results, date_df = process_all_columns(\n",
    "    df.T[df.T.STOCK == 1720].T.iloc[:, 0:10], msft_returns\n",
    ")\n",
    "date_df.head()\n",
    "\n",
    "# All observations can be identified(correlations are very close to 1)\n",
    "# and comes from date range from 2010-02-09 to 2017-12-18\n",
    "log.info(f\"Min date: {date_df.date.min()}\")\n",
    "log.info(f\"Max date: {date_df.date.max()}\")"
   ]
  },
  {
   "cell_type": "markdown",
   "id": "423cb53a",
   "metadata": {
    "lines_to_next_cell": 0
   },
   "source": [
    "Time to pick one of the dates. I've chosen **2016-07-20**\n",
    "which seems to map to 97\n",
    "In other words date_idx = 97 => 2016-07-20"
   ]
  },
  {
   "cell_type": "markdown",
   "id": "693eba1b",
   "metadata": {
    "lines_to_next_cell": 2
   },
   "source": [
    "Next step: Identify additional stocks for our target date (2016-07-20)\n",
    "We'll leverage the SEC website's comprehensive ticker list and yfinance data\n",
    "\n",
    "While this approach won't identify every stock in the dataset,\n",
    "it should provide sufficient coverage for strong competition performance.\n",
    "Even identifying **50%** of stocks/observations would be highly effective,\n",
    "potentially yielding a **0.75** score (perfect accuracy on identified stocks,\n",
    "**50%** baseline on remainder)"
   ]
  },
  {
   "cell_type": "markdown",
   "id": "20462b9d",
   "metadata": {
    "lines_to_next_cell": 0
   },
   "source": [
    "Define a function to retrieve stock ticker symbols from the SEC database"
   ]
  },
  {
   "cell_type": "code",
   "execution_count": null,
   "id": "b3dd8006",
   "metadata": {},
   "outputs": [],
   "source": [
    "def get_yahoo_syms(exclude_mapped=False):\n",
    "    sec_tickers = pd.read_json(\n",
    "        \"./data/01_raw/company_tickers.json\"\n",
    "    ).T  # https://www.sec.gov/files/company_tickers.json\n",
    "    sec_tickers.drop(columns=[\"cik_str\"], inplace=True)\n",
    "    sec_tickers.rename(columns={\"ticker\": \"Symbol\", \"title\": \"Name\"}, inplace=True)\n",
    "    symbols = list(sec_tickers[\"Symbol\"].unique())\n",
    "    if exclude_mapped:\n",
    "        mapped_stocks = pd.read_pickle(\"./data/01_raw/mapped_stocks.pkl\")\n",
    "        symbols = [sym for sym in symbols if sym not in mapped_stocks.values()]\n",
    "    return symbols"
   ]
  },
  {
   "cell_type": "markdown",
   "id": "d91b06fc",
   "metadata": {
    "lines_to_next_cell": 0
   },
   "source": [
    "Download historical price data for all SEC-listed tickers around 2016-07-20\n",
    "This retrieves daily prices for each stock symbol in our list\n",
    "Handles API rate limits and potential download failures gracefully"
   ]
  },
  {
   "cell_type": "code",
   "execution_count": null,
   "id": "4b183f13",
   "metadata": {},
   "outputs": [],
   "source": [
    "symbols = get_yahoo_syms()\n",
    "end_date = datetime(2016, 7, 22)\n",
    "start_date = end_date - pd.offsets.BDay(\n",
    "    21\n",
    ")  # Using business days instead of calendar days"
   ]
  },
  {
   "cell_type": "markdown",
   "id": "66375742",
   "metadata": {
    "lines_to_next_cell": 0
   },
   "source": [
    "Implement systematic batch downloading of stock data with rate limiting\n",
    "Yahoo Finance API has hourly/daily request limits that we need to respect\n",
    "Previous attempts required 1 second delays between requests to avoid rate limiting\n",
    "Note: This section assumes the download process has already been completed"
   ]
  },
  {
   "cell_type": "code",
   "execution_count": null,
   "id": "bdc8ffba",
   "metadata": {},
   "outputs": [],
   "source": [
    "def download_batch_prices(\n",
    "    symbols: list, start_date: datetime, end_date: datetime\n",
    ") -> pd.DataFrame:\n",
    "    \"\"\"Download stock prices in batches for a list of symbols.\n",
    "\n",
    "    Args:\n",
    "        symbols: List of stock symbols to download\n",
    "        start_date: Start date for price data\n",
    "        end_date: End date for price data\n",
    "\n",
    "    Returns:\n",
    "        DataFrame containing downloaded price data\n",
    "    \"\"\"\n",
    "    prices = pd.DataFrame()\n",
    "    for i in range(0, len(symbols), 100):\n",
    "        batch_symbols = symbols[i : i + 100]\n",
    "        try:\n",
    "            batch_prices = yf.download(\n",
    "                batch_symbols,\n",
    "                start=start_date,\n",
    "                end=end_date,\n",
    "                progress=True,\n",
    "            )\n",
    "            if prices.empty:\n",
    "                prices = batch_prices\n",
    "            else:\n",
    "                prices = pd.concat([prices, batch_prices], axis=1)\n",
    "\n",
    "        except Exception as e:\n",
    "            log.error(f\"Error downloading batch {i}-{i+100}: {e}\")\n",
    "            continue\n",
    "    return prices"
   ]
  },
  {
   "cell_type": "code",
   "execution_count": null,
   "id": "86e37d47",
   "metadata": {},
   "outputs": [],
   "source": [
    "end_date = datetime(2016, 7, 22)\n",
    "start_date = end_date - timedelta(days=32)\n",
    "\n",
    "\n",
    "data_dir = Path(\"./data/01_raw/yahoo_data/20160722\")\n",
    "files = os.listdir(data_dir)\n",
    "files = [f.replace(\".pkl\", \"\") for f in files if f.endswith(\".pkl\")]\n",
    "\n",
    "for sym in symbols:\n",
    "    if sym in files:\n",
    "        log.debug(f\"{sym} already exists\")\n",
    "        continue\n",
    "    try:\n",
    "        log.debug(f\"Downloading {sym}\")\n",
    "        prices = download_batch_prices([sym], start_date, end_date)\n",
    "        sleep(1)\n",
    "\n",
    "        prices.to_pickle(data_dir / f\"{sym}.pkl\")\n",
    "    except Exception as e:\n",
    "        log.error(f\"Error downloading {sym}: {e}\")\n",
    "        continue"
   ]
  },
  {
   "cell_type": "markdown",
   "id": "6a7e7ad1",
   "metadata": {
    "lines_to_next_cell": 0
   },
   "source": [
    "The previous data download step was successful, allowing us to proceed with loading and analyzing the market data"
   ]
  },
  {
   "cell_type": "code",
   "execution_count": null,
   "id": "6c9803f5",
   "metadata": {},
   "outputs": [],
   "source": [
    "all_returns = pd.DataFrame()\n",
    "for file in os.listdir(data_dir):\n",
    "    log.debug(f\"Processing {file}\")\n",
    "    prices = pd.read_pickle(data_dir / file)\n",
    "    returns = prices[\"Close\"].pct_change()\n",
    "    cols = returns[1:].isna().any(axis=0)\n",
    "    returns = returns.loc[:, ~cols]\n",
    "    returns = returns.loc[:, ~returns.columns.duplicated()]\n",
    "    all_returns = pd.concat([all_returns, returns], axis=1)\n",
    "    all_returns = all_returns.loc[\n",
    "        :, ~all_returns.isna().all()\n",
    "    ]  # remove empty columns (tick with data that it couldn't find)\n",
    "# Check for any NaN values in columns\n",
    "all_returns.head(25)"
   ]
  },
  {
   "cell_type": "markdown",
   "id": "2f03f274",
   "metadata": {
    "lines_to_next_cell": 0
   },
   "source": [
    "Define a function to map stock IDs to their actual ticker symbols based on correlation analysis.\n",
    "We use a high correlation threshold to identify likely matches (e.g. MSFT data matching MSFT ticker).\n",
    "Note: This matching isn't perfect since:\n",
    "1. Corporate actions like splits/dividends can affect correlations\n",
    "2. The goal is competition performance rather than 100% accuracy"
   ]
  },
  {
   "cell_type": "code",
   "execution_count": null,
   "id": "66e3380b",
   "metadata": {},
   "outputs": [],
   "source": [
    "def map_stocks(all_results_df, correlation_threshold=0.99):\n",
    "    \"\"\"Create mapping of highly correlated stocks above threshold.\"\"\"\n",
    "    dict_ = {}\n",
    "    for _, row in all_results_df[\n",
    "        all_results_df[\"corr\"] > correlation_threshold\n",
    "    ].iterrows():\n",
    "        stock_id = row[\"stock_id\"]\n",
    "        stock_name = row[\"symbol\"]\n",
    "        dict_[stock_id] = stock_name\n",
    "    return dict_"
   ]
  },
  {
   "cell_type": "code",
   "execution_count": null,
   "id": "026c4695",
   "metadata": {},
   "outputs": [],
   "source": [
    "# Filter dataset to analyze a single date's observations\n",
    "train_20160720 = train_df[train_df[\"DATE\"] == 97]\n",
    "# Ok, it has 2985 observations which will allow to potentially identify 2985 stocks (but probably fewer)\n",
    "df2 = train_20160720[ret_cols + [\"DATE\", \"STOCK\"]].transpose()[::-1]"
   ]
  },
  {
   "cell_type": "markdown",
   "id": "04635181",
   "metadata": {
    "lines_to_next_cell": 0
   },
   "source": [
    "Process in small batches and add to mapped stocks dictionary"
   ]
  },
  {
   "cell_type": "code",
   "execution_count": null,
   "id": "65c77590",
   "metadata": {
    "lines_to_next_cell": 0
   },
   "outputs": [],
   "source": [
    "run_batch = False\n",
    "for i in range(0, len(df2.columns), 10):\n",
    "    mapped_stocks = {}\n",
    "    if run_batch:\n",
    "        log.debug(f\"Processing {i} / {len(df2.columns)}\")\n",
    "        _, all_results_df = process_all_columns(df2.iloc[:, i : i + 10], all_returns)\n",
    "        all_results_df.sort_values(\"corr\", ascending=False).groupby(\"date_idx\").head(50)\n",
    "        # Create mapping of highly correlated stocks (>0.99)\n",
    "        mapped_stocks = map_stocks(all_results_df)\n",
    "    # Load existing mapping if it exists, otherwise start with empty dict\n",
    "    if os.path.exists(\"data/01_raw/mapped_stocks.pkl\"):\n",
    "        existing_mapped_stocks = pd.read_pickle(\"data/01_raw/mapped_stocks.pkl\")\n",
    "        existing_mapped_stocks.update(mapped_stocks)\n",
    "        pd.to_pickle(existing_mapped_stocks, \"data/01_raw/mapped_stocks.pkl\")\n",
    "    else:\n",
    "        pd.to_pickle(mapped_stocks, \"data/01_raw/mapped_stocks.pkl\")\n",
    "\n",
    "\n",
    "md(f\"I managed to identify {len(existing_mapped_stocks)} stocks\")"
   ]
  },
  {
   "cell_type": "code",
   "execution_count": null,
   "id": "f8b796e4",
   "metadata": {
    "lines_to_next_cell": 2
   },
   "outputs": [],
   "source": [
    "symbols = get_yahoo_syms(exclude_mapped=True)\n",
    "len(symbols)"
   ]
  },
  {
   "cell_type": "code",
   "execution_count": null,
   "id": "beedd22d",
   "metadata": {
    "lines_to_next_cell": 0
   },
   "outputs": [],
   "source": [
    "# Let's go to the test set\n",
    "test_df = pickle.load(open(\"data/01_raw/test_df.pkl\", \"rb\"))"
   ]
  },
  {
   "cell_type": "code",
   "execution_count": null,
   "id": "178b8964",
   "metadata": {
    "lines_to_next_cell": 0
   },
   "outputs": [],
   "source": [
    "date_dict = pd.read_pickle(\"data/01_raw/mapped_dates.pkl\")\n",
    "mapped_stocks = pd.read_pickle(\"data/01_raw/mapped_stocks.pkl\")\n",
    "\n",
    "test_df[\"DT\"] = test_df[\"DATE\"].map(date_dict)\n",
    "test_df.head()"
   ]
  },
  {
   "cell_type": "code",
   "execution_count": null,
   "id": "05eb71d5",
   "metadata": {
    "lines_to_next_cell": 0
   },
   "outputs": [],
   "source": [
    "test_df[\"STOCK_NAME\"] = test_df[\"STOCK\"].map(mapped_stocks)\n",
    "test_df.head()"
   ]
  },
  {
   "cell_type": "code",
   "execution_count": null,
   "id": "1434a497",
   "metadata": {},
   "outputs": [],
   "source": [
    "# Reorder columns to put STOCK_NAME after STOCK and DT after DATE\n",
    "cols = test_df.columns.tolist()\n",
    "stock_idx = cols.index(\"STOCK\")\n",
    "date_idx = cols.index(\"DATE\")\n",
    "\n",
    "# Create new column order\n",
    "new_cols = cols.copy()\n",
    "new_cols.remove(\"STOCK_NAME\")\n",
    "new_cols.remove(\"DT\")\n",
    "new_cols.insert(stock_idx + 1, \"STOCK_NAME\")\n",
    "new_cols.insert(date_idx + 1, \"DT\")\n",
    "\n",
    "# Reorder dataframe columns\n",
    "test_df = test_df[new_cols]\n",
    "test_df.head()\n",
    "test_df = test_df[~test_df[\"STOCK_NAME\"].isna()]\n",
    "test_df[\"DT_1BDAY_OFFSET\"] = test_df[\"DT\"] + pd.offsets.BDay(1)"
   ]
  },
  {
   "cell_type": "markdown",
   "id": "cd5db298",
   "metadata": {
    "lines_to_next_cell": 0
   },
   "source": [
    "Last definition of the function to get stock prices and merge with test_df"
   ]
  },
  {
   "cell_type": "code",
   "execution_count": null,
   "id": "09f65ac3",
   "metadata": {},
   "outputs": [],
   "source": [
    "def get_stock_prices(row):\n",
    "    log.debug(f\"Processing {row['STOCK_NAME'].unique()[0]}\")\n",
    "\n",
    "    stock_name = row[\"STOCK_NAME\"].unique()[0]\n",
    "    start = min(row[\"DT\"] - pd.Timedelta(days=1))\n",
    "    end = max(row[\"DT\"] + pd.Timedelta(days=1))\n",
    "    try:\n",
    "        if os.path.exists(f\"./data/01_raw/yahoo_data/all/{stock_name}.pkl\"):\n",
    "            prices = pd.read_pickle(f\"./data/01_raw/yahoo_data/all/{stock_name}.pkl\")\n",
    "        else:\n",
    "            sleep(1)\n",
    "            prices = yf.download(stock_name, start=start, end=end)[\"Close\"].pct_change()\n",
    "            pd.to_pickle(prices, f\"./data/01_raw/yahoo_data/all/{stock_name}.pkl\")\n",
    "        prices.columns = [\"RET\"]\n",
    "    except Exception as e:\n",
    "        log.error(f\"Error downloading {stock_name}: {e}\")\n",
    "        return None\n",
    "    joined = pd.merge(\n",
    "        row,\n",
    "        prices,\n",
    "        right_index=True,\n",
    "        left_on=[\"DT_1BDAY_OFFSET\"],\n",
    "    )\n",
    "    return joined"
   ]
  },
  {
   "cell_type": "code",
   "execution_count": null,
   "id": "d9d908f8",
   "metadata": {
    "lines_to_next_cell": 0
   },
   "outputs": [],
   "source": [
    "test_df_proc = (\n",
    "    test_df.groupby(\"STOCK_NAME\").apply(lambda x: get_stock_prices(x)).droplevel(0)\n",
    ")"
   ]
  },
  {
   "cell_type": "markdown",
   "id": "35a27c4b",
   "metadata": {
    "lines_to_next_cell": 0
   },
   "source": [
    "Save down found prices"
   ]
  },
  {
   "cell_type": "code",
   "execution_count": null,
   "id": "1f5544ec",
   "metadata": {
    "lines_to_next_cell": 0
   },
   "outputs": [],
   "source": [
    "test_df_proc[\"RET\"].to_pickle(\"data/07_model_output/reverse_engineered_prices.pkl\")"
   ]
  },
  {
   "cell_type": "code",
   "execution_count": null,
   "id": "4bc8e2ef",
   "metadata": {
    "lines_to_next_cell": 0
   },
   "outputs": [],
   "source": [
    "# Load one of my best submissions. This one had around 0.5158 score\n",
    "submission = pd.read_csv(\"./data/07_model_output/submission5.csv\")\n",
    "submission2 = (\n",
    "    pd.merge(\n",
    "        submission[[\"ID\", \"pred\"]],\n",
    "        test_df_proc[[\"ID\", \"RET\"]]\n",
    "        .assign(RET=lambda x: (x[\"RET\"] > 0).astype(int))\n",
    "        .rename(columns={\"RET\": \"pred\"}),\n",
    "        on=\"ID\",\n",
    "        how=\"left\",\n",
    "        suffixes=(None, \"_new\"),\n",
    "    )\n",
    "    .assign(pred=lambda x: x[\"pred_new\"].fillna(x[\"pred\"]))\n",
    "    .drop(columns=[\"pred_new\"])\n",
    ")\n",
    "submission2.to_csv(\"./data/07_model_output/submission6.csv\", index=False)"
   ]
  },
  {
   "cell_type": "code",
   "execution_count": null,
   "id": "cd5ba39d",
   "metadata": {
    "lines_to_next_cell": 2
   },
   "outputs": [],
   "source": [
    "md(\n",
    "    f\"Found values for {len(set(submission['ID']) & set(test_df_proc['ID']))} observations\"\n",
    ")\n",
    "# Count how many predictions changed from the original submission\n",
    "changed_value = (submission[\"pred\"] != submission2[\"pred\"]).sum()\n",
    "md(f\"Changed values for {changed_value} observations\")\n",
    "estimated_score = (\n",
    "    changed_value / len(submission) + (1 - changed_value / len(submission)) * 0.5158\n",
    ")\n",
    "md(f\"Estimated score for the submission: {estimated_score:.4f}\")"
   ]
  },
  {
   "cell_type": "markdown",
   "id": "f39fe55a",
   "metadata": {},
   "source": [
    "* Value that I have scored was even better than estimated - **0.6305**\n",
    "* Experiment succeeded. :)"
   ]
  }
 ],
 "metadata": {
  "jupytext": {
   "cell_metadata_filter": "-all",
   "main_language": "python",
   "notebook_metadata_filter": "-all"
  }
 },
 "nbformat": 4,
 "nbformat_minor": 5
}
